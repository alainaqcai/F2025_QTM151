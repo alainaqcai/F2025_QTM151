{
 "cells": [
  {
   "cell_type": "markdown",
   "id": "26037de8",
   "metadata": {},
   "source": [
    "<font size = \"8\"> This is my first Jupyter notebook"
   ]
  },
  {
   "cell_type": "code",
   "execution_count": 1,
   "id": "1d624a01",
   "metadata": {},
   "outputs": [
    {
     "name": "stdout",
     "output_type": "stream",
     "text": [
      "My name is Alaina Cai\n"
     ]
    }
   ],
   "source": [
    "print(\"My name is Alaina Cai\")"
   ]
  },
  {
   "cell_type": "markdown",
   "id": "ec55ccb2",
   "metadata": {},
   "source": []
  }
 ],
 "metadata": {
  "kernelspec": {
   "display_name": "base",
   "language": "python",
   "name": "python3"
  },
  "language_info": {
   "codemirror_mode": {
    "name": "ipython",
    "version": 3
   },
   "file_extension": ".py",
   "mimetype": "text/x-python",
   "name": "python",
   "nbconvert_exporter": "python",
   "pygments_lexer": "ipython3",
   "version": "3.13.5"
  }
 },
 "nbformat": 4,
 "nbformat_minor": 5
}
